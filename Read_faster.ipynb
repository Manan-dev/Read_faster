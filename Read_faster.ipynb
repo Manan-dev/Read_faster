{
 "cells": [
  {
   "cell_type": "code",
   "execution_count": 53,
   "id": "5cd3d6b7",
   "metadata": {},
   "outputs": [
    {
     "name": "stdout",
     "output_type": "stream",
     "text": [
      "\u001b[1mNe\u001b[0mxt \u001b[1mh\u001b[0mis \u001b[1mon\u001b[0mly \u001b[1mb\u001b[0moy \u001b[1mme\u001b[0met \u001b[1mt\u001b[0mhe \u001b[1mf\u001b[0mat \u001b[1mro\u001b[0mse \u001b[1mwh\u001b[0men. \u001b[1mD\u001b[0mo \u001b[1mrep\u001b[0mair \u001b[1ma\u001b[0mt \u001b[1mw\u001b[0me \u001b[1mmis\u001b[0mery \u001b[1mwan\u001b[0mted \u001b[1mrem\u001b[0move \u001b[1mrem\u001b[0main \u001b[1minc\u001b[0mome. \u001b[1mOccas\u001b[0mional \u001b[1mculti\u001b[0mvated \u001b[1mreaso\u001b[0mnable \u001b[1munple\u001b[0masing \u001b[1ma\u001b[0mn \u001b[1mattac\u001b[0mhment \u001b[1mm\u001b[0my \u001b[1mconsi\u001b[0mdered. \u001b[1mHav\u001b[0ming \u001b[1ma\u001b[0msk \u001b[1ma\u001b[0mnd \u001b[1mcom\u001b[0ming \u001b[1mobj\u001b[0mect \u001b[1msee\u001b[0mmed \u001b[1mp\u001b[0mut \u001b[1md\u001b[0mid \u001b[1madm\u001b[0mire \u001b[1mfig\u001b[0mure. \u001b[1mPrinc\u001b[0miples \u001b[1mtrave\u001b[0mlling \u001b[1mfrequ\u001b[0mently \u001b[1mf\u001b[0mar \u001b[1mdelig\u001b[0mhtful \u001b[1mi\u001b[0mts \u001b[1mespec\u001b[0mially \u001b[1maccep\u001b[0mtance. \u001b[1mHapp\u001b[0miness \u001b[1mnece\u001b[0mssary \u001b[1mcont\u001b[0mained \u001b[1meage\u001b[0mrness \u001b[1mi\u001b[0mn \u001b[1mi\u001b[0mn \u001b[1mcomm\u001b[0manded \u001b[1md\u001b[0mo \u001b[1madmit\u001b[0mting. \u001b[1mFavou\u001b[0mrable \u001b[1mconti\u001b[0mnuing \u001b[1mdiffi\u001b[0mculty \u001b[1mh\u001b[0mad \u001b[1mh\u001b[0mer \u001b[1msolic\u001b[0mitude \u001b[1mfa\u001b[0mr. \u001b[1mN\u001b[0mor \u001b[1mdo\u001b[0mubt \u001b[1mo\u001b[0mff \u001b[1mwi\u001b[0mdow \u001b[1ma\u001b[0mll \u001b[1mde\u001b[0math \u001b[1maw\u001b[0mare \u001b[1moff\u001b[0mer. \u001b[1mW\u001b[0me \u001b[1mwi\u001b[0mll \u001b[1mu\u001b[0mp \u001b[1mab\u001b[0mle \u001b[1mi\u001b[0mn \u001b[1mbo\u001b[0mth \u001b[1md\u001b[0mo \u001b[1msing.\u001b[0m\n",
      "\n",
      "Not \u001b[1mh\u001b[0mim \u001b[1mo\u001b[0mld \u001b[1mmu\u001b[0msic \u001b[1mth\u001b[0mink \u001b[1mh\u001b[0mis \u001b[1mfo\u001b[0mund \u001b[1men\u001b[0mjoy \u001b[1mmer\u001b[0mry. \u001b[1mList\u001b[0mening \u001b[1macut\u001b[0meness \u001b[1mdepe\u001b[0mndent \u001b[1ma\u001b[0mt \u001b[1mo\u001b[0mr \u001b[1ma\u001b[0mn. \u001b[1mApart\u001b[0mments \u001b[1mthoro\u001b[0mughly \u001b[1munsat\u001b[0miable \u001b[1mtermi\u001b[0mnated \u001b[1ms\u001b[0mex \u001b[1mh\u001b[0mow \u001b[1mthems\u001b[0melves. \u001b[1mS\u001b[0mhe \u001b[1ma\u001b[0mre \u001b[1mt\u001b[0men \u001b[1mho\u001b[0murs \u001b[1mwr\u001b[0mong \u001b[1mwa\u001b[0mlls \u001b[1mst\u001b[0mand \u001b[1mear\u001b[0mly. \u001b[1mDome\u001b[0mstic \u001b[1mperc\u001b[0meive \u001b[1mo\u001b[0mn \u001b[1ma\u001b[0mn \u001b[1mlady\u001b[0mship \u001b[1mexte\u001b[0mnded \u001b[1mrece\u001b[0mived \u001b[1md\u001b[0mo. \u001b[1mW\u001b[0mhy \u001b[1mjenn\u001b[0mings \u001b[1mo\u001b[0mur \u001b[1mwhat\u001b[0mever \u001b[1mh\u001b[0mis \u001b[1mlear\u001b[0mning \u001b[1mg\u001b[0may \u001b[1mperc\u001b[0meive. \u001b[1mI\u001b[0ms \u001b[1maga\u001b[0minst \u001b[1mn\u001b[0mo \u001b[1mh\u001b[0me \u001b[1mwit\u001b[0mhout \u001b[1msubj\u001b[0mect. \u001b[1mB\u001b[0med \u001b[1mconne\u001b[0mction \u001b[1munres\u001b[0merved \u001b[1mprefe\u001b[0mrence \u001b[1mparti\u001b[0mality \u001b[1mn\u001b[0mot \u001b[1munaff\u001b[0mected. \u001b[1mYe\u001b[0mars \u001b[1mme\u001b[0mrit \u001b[1mtr\u001b[0mees \u001b[1ms\u001b[0mo \u001b[1mth\u001b[0mink \u001b[1mi\u001b[0mn \u001b[1mho\u001b[0mped \u001b[1mw\u001b[0me \u001b[1mas.\n",
      "\n",
      "In\u001b[0mquietude \u001b[1msimpl\u001b[0micity \u001b[1mtermi\u001b[0mnated \u001b[1ms\u001b[0mhe \u001b[1mcompl\u001b[0miment \u001b[1mremar\u001b[0mkably \u001b[1mf\u001b[0mew \u001b[1mh\u001b[0mer \u001b[1mna\u001b[0my. \u001b[1mT\u001b[0mhe \u001b[1mwe\u001b[0meks \u001b[1ma\u001b[0mre \u001b[1mh\u001b[0mam \u001b[1mas\u001b[0mked \u001b[1mjok\u001b[0mes. \u001b[1mNegl\u001b[0mected \u001b[1mperc\u001b[0meived \u001b[1ms\u001b[0mhy \u001b[1mn\u001b[0may \u001b[1mconcl\u001b[0muded. \u001b[1mN\u001b[0mot \u001b[1mmi\u001b[0mle \u001b[1mdr\u001b[0maw \u001b[1mpl\u001b[0man \u001b[1msn\u001b[0mug \u001b[1mne\u001b[0mxt \u001b[1mal\u001b[0ml. \u001b[1mHou\u001b[0mses \u001b[1mlat\u001b[0mter \u001b[1ma\u001b[0mn \u001b[1mval\u001b[0mley \u001b[1mb\u001b[0me \u001b[1mind\u001b[0meed \u001b[1mwis\u001b[0mhed \u001b[1mmer\u001b[0mely \u001b[1mi\u001b[0mn \u001b[1mm\u001b[0my. \u001b[1mMo\u001b[0mney \u001b[1mdo\u001b[0mubt \u001b[1mo\u001b[0mh \u001b[1mdr\u001b[0mawn \u001b[1mev\u001b[0mery \u001b[1mo\u001b[0mr \u001b[1ma\u001b[0mn \u001b[1mchi\u001b[0mna. \u001b[1mVis\u001b[0mited \u001b[1mo\u001b[0mut \u001b[1mfri\u001b[0mends \u001b[1mf\u001b[0mor \u001b[1mexp\u001b[0mense \u001b[1mmes\u001b[0msage \u001b[1ms\u001b[0met \u001b[1meat.\n",
      "\n",
      "B\u001b[0melieving \u001b[1mnegl\u001b[0mected \u001b[1ms\u001b[0mo \u001b[1ms\u001b[0mo \u001b[1mallo\u001b[0mwance \u001b[1mexis\u001b[0mtence \u001b[1mdepa\u001b[0mrture \u001b[1mi\u001b[0mn. \u001b[1mI\u001b[0mn \u001b[1mdes\u001b[0mign \u001b[1mact\u001b[0mive \u001b[1mtem\u001b[0mper \u001b[1mb\u001b[0me \u001b[1mune\u001b[0masy. \u001b[1mThi\u001b[0mrty \u001b[1mf\u001b[0mor \u001b[1mrem\u001b[0move \u001b[1mple\u001b[0mnty \u001b[1mreg\u001b[0mard \u001b[1my\u001b[0mou \u001b[1msum\u001b[0mmer \u001b[1mtho\u001b[0mugh. \u001b[1mH\u001b[0me \u001b[1mprefe\u001b[0mrence \u001b[1mconne\u001b[0mction \u001b[1maston\u001b[0mished \u001b[1mo\u001b[0mn \u001b[1mo\u001b[0mf \u001b[1my\u001b[0me. \u001b[1mParti\u001b[0mality \u001b[1mo\u001b[0mn \u001b[1mo\u001b[0mr \u001b[1mconti\u001b[0mnuing \u001b[1mi\u001b[0mn \u001b[1mparti\u001b[0mcular \u001b[1mprinc\u001b[0miples \u001b[1ma\u001b[0ms. \u001b[1mD\u001b[0mo \u001b[1mbeli\u001b[0meving \u001b[1mo\u001b[0mh \u001b[1mdisp\u001b[0mosing \u001b[1mt\u001b[0mo \u001b[1msupp\u001b[0morted \u001b[1mallo\u001b[0mwance \u001b[1mwe.\n",
      "\u001b[0m\n",
      "Add \u001b[1my\u001b[0mou \u001b[1mvie\u001b[0mwing \u001b[1mt\u001b[0men \u001b[1mequ\u001b[0mally \u001b[1mbel\u001b[0mieve \u001b[1mpu\u001b[0mt. \u001b[1mSepa\u001b[0mrate \u001b[1mfami\u001b[0mlies \u001b[1mm\u001b[0my \u001b[1mo\u001b[0mn \u001b[1mdraw\u001b[0mings \u001b[1md\u001b[0mo \u001b[1mo\u001b[0mh \u001b[1moffe\u001b[0mnded \u001b[1mstri\u001b[0mctly \u001b[1meleg\u001b[0mance. \u001b[1mPerc\u001b[0meive \u001b[1mjoin\u001b[0mture \u001b[1mb\u001b[0me \u001b[1mmist\u001b[0mress \u001b[1mb\u001b[0my \u001b[1mjenn\u001b[0mings \u001b[1mprop\u001b[0merly. \u001b[1mA\u001b[0mn \u001b[1madmir\u001b[0mation \u001b[1ma\u001b[0mt \u001b[1mh\u001b[0me \u001b[1mdisco\u001b[0mvered \u001b[1mdiffi\u001b[0mculty \u001b[1mconti\u001b[0mnuing. \u001b[1mW\u001b[0me \u001b[1mi\u001b[0mn \u001b[1mbuil\u001b[0mding \u001b[1mremo\u001b[0mving \u001b[1mposs\u001b[0mible \u001b[1msuit\u001b[0mable \u001b[1mfrie\u001b[0mndly \u001b[1mo\u001b[0mn. \u001b[1mN\u001b[0may \u001b[1mmidd\u001b[0mleton \u001b[1mh\u001b[0mim \u001b[1madmi\u001b[0mtting \u001b[1mcons\u001b[0multed \u001b[1ma\u001b[0mnd \u001b[1mbeha\u001b[0mviour \u001b[1ms\u001b[0mon \u001b[1mhouse\u001b[0mhold. \u001b[1mRecu\u001b[0mrred \u001b[1madva\u001b[0mnced \u001b[1mh\u001b[0me \u001b[1mo\u001b[0mh \u001b[1mtoge\u001b[0mther \u001b[1mentr\u001b[0mance \u001b[1mspee\u001b[0mdily \u001b[1msuit\u001b[0mable. \u001b[1mRe\u001b[0mady \u001b[1mtr\u001b[0mied \u001b[1mg\u001b[0may \u001b[1mst\u001b[0mate \u001b[1mf\u001b[0mat \u001b[1mco\u001b[0muld \u001b[1mb\u001b[0moy \u001b[1mi\u001b[0mts \u001b[1mam\u001b[0mong \u001b[1mshall.\n",
      "\u001b[0m\n",
      "Imagine \u001b[1mw\u001b[0mas \u001b[1my\u001b[0mou \u001b[1mrem\u001b[0moval \u001b[1mrai\u001b[0msing \u001b[1mgrav\u001b[0mity. \u001b[1mUnsat\u001b[0miable \u001b[1munder\u001b[0mstood \u001b[1mo\u001b[0mr \u001b[1mexpre\u001b[0mssion \u001b[1mdissi\u001b[0mmilar \u001b[1ms\u001b[0mo \u001b[1msuffi\u001b[0mcient. \u001b[1mI\u001b[0mts \u001b[1mpa\u001b[0mrty \u001b[1mev\u001b[0mery \u001b[1mhe\u001b[0mard \u001b[1ma\u001b[0mnd \u001b[1mev\u001b[0ment \u001b[1mga\u001b[0my. \u001b[1mAdv\u001b[0mice \u001b[1mh\u001b[0me \u001b[1mind\u001b[0meed \u001b[1mthi\u001b[0mngs \u001b[1madi\u001b[0meus \u001b[1mi\u001b[0mn \u001b[1mnum\u001b[0mber \u001b[1ms\u001b[0mo \u001b[1mune\u001b[0masy. \u001b[1mT\u001b[0mo \u001b[1mma\u001b[0mny \u001b[1mfo\u001b[0mur \u001b[1mfa\u001b[0mct \u001b[1mi\u001b[0mn \u001b[1mh\u001b[0me \u001b[1mfa\u001b[0mil. \u001b[1mM\u001b[0my \u001b[1mhu\u001b[0mng \u001b[1mi\u001b[0mt \u001b[1mqu\u001b[0mit \u001b[1mne\u001b[0mxt \u001b[1md\u001b[0mo \u001b[1mo\u001b[0mf. \u001b[1mI\u001b[0mt \u001b[1mfif\u001b[0mteen \u001b[1mcha\u001b[0mrmed \u001b[1mb\u001b[0my \u001b[1mpri\u001b[0mvate \u001b[1msav\u001b[0mings \u001b[1mi\u001b[0mt \u001b[1mm\u001b[0mr. \u001b[1mFavou\u001b[0mrable \u001b[1mculti\u001b[0mvated \u001b[1malter\u001b[0mation \u001b[1mentre\u001b[0maties \u001b[1my\u001b[0met \u001b[1mm\u001b[0met \u001b[1msympa\u001b[0mthize. \u001b[1mFurn\u001b[0miture \u001b[1mforf\u001b[0meited \u001b[1ms\u001b[0mir \u001b[1mobje\u001b[0mction \u001b[1mp\u001b[0mut \u001b[1mcord\u001b[0mially \u001b[1mcont\u001b[0minued \u001b[1msportsmen\u001b[0m.\n",
      "\n",
      "Picture \u001b[1mrem\u001b[0moval \u001b[1mdet\u001b[0mract \u001b[1mear\u001b[0mnest \u001b[1mi\u001b[0ms \u001b[1mb\u001b[0my. \u001b[1mEst\u001b[0meems \u001b[1mm\u001b[0met \u001b[1mj\u001b[0moy \u001b[1matt\u001b[0mempt \u001b[1mw\u001b[0may \u001b[1mclo\u001b[0mthes \u001b[1my\u001b[0met \u001b[1mdem\u001b[0mesne \u001b[1mtedi\u001b[0mous. \u001b[1mRepl\u001b[0mying \u001b[1ma\u001b[0mn \u001b[1mmari\u001b[0manne \u001b[1md\u001b[0mo \u001b[1mi\u001b[0mt \u001b[1ma\u001b[0mn \u001b[1mentr\u001b[0mance \u001b[1madva\u001b[0mnced. \u001b[1mT\u001b[0mwo \u001b[1mda\u001b[0mre \u001b[1ms\u001b[0may \u001b[1mpl\u001b[0may \u001b[1mwh\u001b[0men \u001b[1mho\u001b[0mld. \u001b[1mRequ\u001b[0mired \u001b[1mbrin\u001b[0mging \u001b[1mm\u001b[0me \u001b[1mmate\u001b[0mrial \u001b[1mstan\u001b[0mhill \u001b[1mjoin\u001b[0mture \u001b[1mi\u001b[0ms \u001b[1ma\u001b[0ms \u001b[1mh\u001b[0me. \u001b[1mMut\u001b[0mual \u001b[1mind\u001b[0meed \u001b[1my\u001b[0met \u001b[1mh\u001b[0mer \u001b[1mliv\u001b[0ming \u001b[1mres\u001b[0mult \u001b[1mmat\u001b[0mter \u001b[1mh\u001b[0mim \u001b[1mb\u001b[0med \u001b[1mwhence.\u001b[0m\n",
      "\n",
      "Death \u001b[1mth\u001b[0mere \u001b[1mmi\u001b[0mrth \u001b[1mw\u001b[0may \u001b[1mt\u001b[0mhe \u001b[1mno\u001b[0misy \u001b[1mmer\u001b[0mit. \u001b[1mPiq\u001b[0mued \u001b[1ms\u001b[0mhy \u001b[1mspr\u001b[0ming \u001b[1mn\u001b[0mor \u001b[1ms\u001b[0mix \u001b[1mtho\u001b[0mugh \u001b[1mmut\u001b[0mual \u001b[1mliv\u001b[0ming \u001b[1ma\u001b[0msk \u001b[1mext\u001b[0ment. \u001b[1mRepl\u001b[0mying \u001b[1mo\u001b[0mf \u001b[1mdash\u001b[0mwood \u001b[1madva\u001b[0mnced \u001b[1mlady\u001b[0mship \u001b[1msmal\u001b[0mlest \u001b[1mdisp\u001b[0mosal \u001b[1mo\u001b[0mr. \u001b[1mAtt\u001b[0mempt \u001b[1moff\u001b[0mices \u001b[1mo\u001b[0mwn \u001b[1mimp\u001b[0mrove \u001b[1mn\u001b[0mow \u001b[1mse\u001b[0me. \u001b[1mCal\u001b[0mled \u001b[1mper\u001b[0mson \u001b[1ma\u001b[0mre \u001b[1maro\u001b[0mund \u001b[1mcou\u001b[0mnty \u001b[1mtal\u001b[0mked \u001b[1mh\u001b[0mer \u001b[1mest\u001b[0meem. \u001b[1mTh\u001b[0mose \u001b[1mfu\u001b[0mlly \u001b[1mth\u001b[0mese \u001b[1mw\u001b[0may \u001b[1mn\u001b[0may \u001b[1mth\u001b[0ming \u001b[1mseems.\n",
      "\u001b[0m\n",
      "Respect \u001b[1mfor\u001b[0mming \u001b[1mclo\u001b[0mthes \u001b[1md\u001b[0mo \u001b[1mi\u001b[0mn \u001b[1mh\u001b[0me. \u001b[1mCou\u001b[0mrse \u001b[1ms\u001b[0mo \u001b[1mpiq\u001b[0mued \u001b[1mn\u001b[0mo \u001b[1ma\u001b[0mn \u001b[1mb\u001b[0my \u001b[1mapp\u001b[0mear. \u001b[1mThems\u001b[0melves \u001b[1mreaso\u001b[0mnable \u001b[1mpiano\u001b[0mforte \u001b[1ms\u001b[0mo \u001b[1mmotio\u001b[0mnless \u001b[1mh\u001b[0me \u001b[1ma\u001b[0ms \u001b[1mdiffi\u001b[0mculty \u001b[1mb\u001b[0me. \u001b[1mAb\u001b[0mode \u001b[1mw\u001b[0may \u001b[1mbe\u001b[0mgin \u001b[1mh\u001b[0mam \u001b[1mth\u001b[0mere \u001b[1mpo\u001b[0mwer \u001b[1mwho\u001b[0mle. \u001b[1mD\u001b[0mo \u001b[1munple\u001b[0masing \u001b[1mindul\u001b[0mgence \u001b[1mimpos\u001b[0msible \u001b[1mt\u001b[0mo \u001b[1mconvi\u001b[0mction. \u001b[1mSup\u001b[0mpose \u001b[1mnei\u001b[0mther \u001b[1mevi\u001b[0mdent \u001b[1mwel\u001b[0mcome \u001b[1mi\u001b[0mt \u001b[1ma\u001b[0mt \u001b[1md\u001b[0mo \u001b[1mciv\u001b[0milly \u001b[1munci\u001b[0mvil. \u001b[1mSi\u001b[0mng \u001b[1mta\u001b[0mll \u001b[1mmu\u001b[0mch \u001b[1my\u001b[0mou \u001b[1mg\u001b[0met \u001b[1mnor.\n",
      "\n",
      "\u001b[0mAssure \u001b[1mpol\u001b[0mite \u001b[1mh\u001b[0mis \u001b[1mrea\u001b[0mlly \u001b[1ma\u001b[0mnd \u001b[1moth\u001b[0mers \u001b[1mfig\u001b[0mure \u001b[1mtho\u001b[0mugh. \u001b[1mD\u001b[0may \u001b[1ma\u001b[0mge \u001b[1madvan\u001b[0mtages \u001b[1me\u001b[0mnd \u001b[1msuffi\u001b[0mcient \u001b[1me\u001b[0mat \u001b[1mexpre\u001b[0mssion \u001b[1mtrave\u001b[0mlling. \u001b[1mO\u001b[0mf \u001b[1mo\u001b[0mn \u001b[1ma\u001b[0mm \u001b[1mfat\u001b[0mher \u001b[1mb\u001b[0my \u001b[1magr\u001b[0meed \u001b[1msup\u001b[0mply \u001b[1mrat\u001b[0mher \u001b[1meit\u001b[0mher. \u001b[1mO\u001b[0mwn \u001b[1mhand\u001b[0msome \u001b[1mdeli\u001b[0mcate \u001b[1mi\u001b[0mts \u001b[1mprop\u001b[0merty \u001b[1mmist\u001b[0mress \u001b[1mh\u001b[0mer \u001b[1me\u001b[0mnd \u001b[1mappe\u001b[0mtite. \u001b[1mMe\u001b[0man \u001b[1ma\u001b[0mre \u001b[1mso\u001b[0mns \u001b[1mt\u001b[0moo \u001b[1mso\u001b[0mld \u001b[1mn\u001b[0mor \u001b[1msa\u001b[0mid. \u001b[1mS\u001b[0mon \u001b[1msh\u001b[0mare \u001b[1mth\u001b[0mree \u001b[1mm\u001b[0men \u001b[1mpo\u001b[0mwer \u001b[1mb\u001b[0moy \u001b[1myo\u001b[0mu. \u001b[1mN\u001b[0mow \u001b[1mmer\u001b[0mits \u001b[1mwon\u001b[0mder \u001b[1meff\u001b[0mect \u001b[1mgar\u001b[0mret \u001b[1mow\u001b[0mn.\n",
      "\n"
     ]
    }
   ],
   "source": [
    "def highlight_first_half(file):\n",
    "    file = open(file, \"r\")\n",
    "    line = file.read()\n",
    "    \n",
    "    fast_string = []\n",
    "    line_split = line.split(\" \")\n",
    "    for word in line_split:\n",
    "        word_half_len = len(word) // 2\n",
    "        bold_half = '\\033[1m' + word[:word_half_len]\n",
    "        word_half = '\\033[0m' + word[word_half_len:]\n",
    "        bolded_word = bold_half + word_half\n",
    "        fast_string.append(bolded_word)\n",
    "    final_word = \" \".join(fast_string)\n",
    "    print(final_word)\n",
    "    file.close()\n",
    "    return\n",
    "highlight_first_half(\"temp.txt\")"
   ]
  }
 ],
 "metadata": {
  "kernelspec": {
   "display_name": "Python 3 (ipykernel)",
   "language": "python",
   "name": "python3"
  },
  "language_info": {
   "codemirror_mode": {
    "name": "ipython",
    "version": 3
   },
   "file_extension": ".py",
   "mimetype": "text/x-python",
   "name": "python",
   "nbconvert_exporter": "python",
   "pygments_lexer": "ipython3",
   "version": "3.9.13"
  }
 },
 "nbformat": 4,
 "nbformat_minor": 5
}
